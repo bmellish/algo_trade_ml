{
 "cells": [
  {
   "cell_type": "markdown",
   "metadata": {},
   "source": [
    "# Generating trading signals with Gradient Boosting"
   ]
  },
  {
   "cell_type": "markdown",
   "metadata": {},
   "source": [
    "This notebook illustrates the following steps:\n",
    "1. **Cross-validation in the time-series context** poses the additional challenge that train and validation sets need to respect the temporal order of the data so that we do not inadvertently train the model on data 'from the future' to predict the past and introduce lookahead bias. Scikit-learn's built-in [TimeSeriesSplit](https://scikit-learn.org/stable/modules/generated/sklearn.model_selection.TimeSeriesSplit.html) aims to accomplish this but does not work for this case where we have multiple time series, one for each ticker. We could solve this by manually subsetting the data for the appropriate train and validation periods. Alternatively, we can create a custom time-series splitter compatible with the scikit-learn Kfold interface (see resources). Here is an [example](https://github.com/stefan-jansen/machine-learning-for-trading/blob/master/utils.py) that illustrates how to do so for this case. This allows us to specify fixed `train_length` and `test_length` parameters, as well as a `lookahead` value that defines the forecast horizon and ensures an appropriate gap between the training and validation set.\n",
    "2. Now, we'll investigate if a more complex **gradient boosting** model is capable of improving the result. \n",
    "    - We'll use the LightGBM implementation because it often [outperforms](https://lightgbm.readthedocs.io/en/latest/Experiments.html) the alternative [XGBoost](https://xgboost.readthedocs.io/en/latest/) and [CatBoost](https://catboost.ai/) libraries, especially in terms of runtime and memory footprint. There is also a recent scikit-learn [HistGradientBoostingRegressor](https://scikit-learn.org/stable/modules/generated/sklearn.ensemble.HistGradientBoostingRegressor.html#sklearn.ensemble.HistGradientBoostingRegressor) inspired by LightGBM. \n",
    "    - You need to define and [tune](https://lightgbm.readthedocs.io/en/latest/Parameters-Tuning.html) several **hyperparameters** to define the model's complexity as well as constraints on the learning process (see [docs](https://lightgbm.readthedocs.io/en/latest/Parameters.html) for the full list). The goal is to adjust the model's capacity to the data while limiting the risk of overfitting so that the model learns the signal rather than the noise in the data and generalizes better to out-of-sample data. In other words, we aim to identify the most promising model settings based on an unbiased estimate of the generalization error, and then apply these settings to generate out-of-sample predictions.\n",
    "    - The **most important parameters** define the *number of iterations* or trees, and the *size of each tree*. LightGBM allows you to optimize the number of iterations by training a model for a certain number of iterations, then evaluating its performance before continuing to train the model. LightGBM permits [leaf-wise tree growth](https://lightgbm.readthedocs.io/en/latest/Features.html#leaf-wise-best-first-tree-growth) and let's you limit the size of the tree by setting the number of leaf nodes or by limiting the depth of the tree. A useful combination targets a certain number of leaves while constraining the minimum number of samples per leaf node to avoid excessive tree imbalances as well as noisy estimates due to leaf nodes with few samples. The default value of 32 of the number of leaves is a good starting point, but the min. number of data points per leaves should be significantly higher than the default of 20 - with 1m observations and 100 leave nodes, each leaf would on average contain 10K samples. \n",
    "    - A lower learning rate can help boost accuracy but requires more iterations and, thus, extends training time. See also LightGBM's [guidance](https://lightgbm.readthedocs.io/en/latest/Parameters-Tuning.html) on parameter tuning.\n",
    "    - Finally, the parameter `feature_frac` let's you control the amount of randomization while building each tree.\n",
    "3. To **evaluate the model performance**, compare the cross-validation IC for different hyperparameter settings, computed again as the average of the Spearman rank correlation of the model predictions for each day with the actual returns. Identify the best-performing 5-10 models over a number of recent quarters, and check whether averaging their predictions further improves the result. In addition, use Alphalens to compute a summary tearsheet and inspect the spread between the botton and the top quintile of the predictions.\n",
    "4. Generate out-of-sample predictions for 2014-2016 using your preferred models (which may change for every quarter), and possibly average the result if you found this to yield more stable results. Repeat your Alphalens analysis for these signals."
   ]
  },
  {
   "cell_type": "markdown",
   "metadata": {},
   "source": [
    "## Training with GPU"
   ]
  },
  {
   "cell_type": "markdown",
   "metadata": {},
   "source": [
    "> If you have a GPU, you can install the LightGBM GPU version instead of the CPU version to get a [decent speedup](https://lightgbm.readthedocs.io/en/latest/GPU-Performance.html). To accomplish this, run\n",
    "```bash\n",
    "conda remove -n liveproject lightgbm -y\n",
    "pip install lightgbm --install-option=--gpu\n",
    "```\n",
    "You will also need to adapt the LightGBM parameter settings below to indicate that you'll be using the `device` `GPU`. A smaller bin size like 63 tends to perform better than the default 255."
   ]
  },
  {
   "cell_type": "markdown",
   "metadata": {},
   "source": [
    "> You can also upload and run this notebook in [google collab](https://colab.research.google.com/notebooks/intro.ipynb), just install the packages required by the below imports, mount you Google Drive as described [here](https://buomsoo-kim.github.io/colab/2020/05/09/Colab-mounting-google-drive.md/) and update the `DATA_PATH` to the location on your Google Drive (relative to you mount path) with the `HDFStore` containing the Quandl dataset we created in the first milestone."
   ]
  },
  {
   "cell_type": "markdown",
   "metadata": {},
   "source": [
    "## Imports"
   ]
  },
  {
   "cell_type": "code",
   "execution_count": 1,
   "metadata": {
    "ExecuteTime": {
     "end_time": "2022-01-12T22:04:46.914879Z",
     "start_time": "2022-01-12T22:04:46.908589Z"
    }
   },
   "outputs": [],
   "source": [
    "import warnings\n",
    "warnings.filterwarnings('ignore')"
   ]
  },
  {
   "cell_type": "code",
   "execution_count": 2,
   "metadata": {
    "ExecuteTime": {
     "end_time": "2022-01-12T22:04:48.010613Z",
     "start_time": "2022-01-12T22:04:47.039055Z"
    },
    "scrolled": true
   },
   "outputs": [],
   "source": [
    "%matplotlib inline\n",
    "\n",
    "from pathlib import Path\n",
    "import sys, os\n",
    "from time import time\n",
    "from collections import defaultdict\n",
    "from itertools import product\n",
    "\n",
    "import numpy as np\n",
    "import pandas as pd\n",
    "import statsmodels.api as sm\n",
    "\n",
    "import lightgbm as lgb\n",
    "\n",
    "from scipy.stats import spearmanr\n",
    "\n",
    "from alphalens.tears import (create_summary_tear_sheet,\n",
    "                             create_full_tear_sheet)\n",
    "\n",
    "from alphalens.utils import get_clean_factor_and_forward_returns\n",
    "\n",
    "import matplotlib.pyplot as plt\n",
    "import seaborn as sns"
   ]
  },
  {
   "cell_type": "markdown",
   "metadata": {},
   "source": [
    "## Settings"
   ]
  },
  {
   "cell_type": "code",
   "execution_count": 3,
   "metadata": {
    "ExecuteTime": {
     "end_time": "2022-01-12T22:04:49.641681Z",
     "start_time": "2022-01-12T22:04:49.635283Z"
    }
   },
   "outputs": [],
   "source": [
    "sns.set_style('whitegrid')"
   ]
  },
  {
   "cell_type": "code",
   "execution_count": 4,
   "metadata": {
    "ExecuteTime": {
     "end_time": "2022-01-12T22:04:49.797504Z",
     "start_time": "2022-01-12T22:04:49.794272Z"
    },
    "scrolled": true
   },
   "outputs": [],
   "source": [
    "np.random.seed(42)"
   ]
  },
  {
   "cell_type": "code",
   "execution_count": 5,
   "metadata": {
    "ExecuteTime": {
     "end_time": "2022-01-12T22:04:49.935578Z",
     "start_time": "2022-01-12T22:04:49.932507Z"
    }
   },
   "outputs": [],
   "source": [
    "idx = pd.IndexSlice"
   ]
  },
  {
   "cell_type": "code",
   "execution_count": 6,
   "metadata": {
    "ExecuteTime": {
     "end_time": "2022-01-12T22:04:50.078270Z",
     "start_time": "2022-01-12T22:04:50.075653Z"
    },
    "scrolled": true
   },
   "outputs": [],
   "source": [
    "YEAR = 252 # days\n",
    "MONTH = 21 # days"
   ]
  },
  {
   "cell_type": "code",
   "execution_count": 7,
   "metadata": {
    "ExecuteTime": {
     "end_time": "2022-01-12T22:04:50.308200Z",
     "start_time": "2022-01-12T22:04:50.302379Z"
    }
   },
   "outputs": [],
   "source": [
    "def format_time(t):\n",
    "    \"\"\"Return a formatted time string 'HH:MM:SS\n",
    "    based on a numeric time() value\"\"\"\n",
    "    m, s = divmod(t, 60)\n",
    "    h, m = divmod(m, 60)\n",
    "    return f'{h:0>2.0f}:{m:0>2.0f}:{s:0>2.0f}'"
   ]
  },
  {
   "cell_type": "markdown",
   "metadata": {},
   "source": [
    "## Get Data"
   ]
  },
  {
   "cell_type": "code",
   "execution_count": 8,
   "metadata": {
    "ExecuteTime": {
     "end_time": "2022-01-12T22:04:51.934133Z",
     "start_time": "2022-01-12T22:04:51.932260Z"
    }
   },
   "outputs": [],
   "source": [
    "DATA_PATH = Path('..', 'data')"
   ]
  },
  {
   "cell_type": "code",
   "execution_count": 9,
   "metadata": {
    "ExecuteTime": {
     "end_time": "2022-01-12T22:04:53.075047Z",
     "start_time": "2022-01-12T22:04:52.111493Z"
    },
    "scrolled": true
   },
   "outputs": [],
   "source": [
    "data = (pd.read_hdf(DATA_PATH / 'stock_prices.h5', 'model_data')\n",
    "        .sort_index())"
   ]
  },
  {
   "cell_type": "code",
   "execution_count": 10,
   "metadata": {
    "ExecuteTime": {
     "end_time": "2022-01-12T22:04:53.191762Z",
     "start_time": "2022-01-12T22:04:53.076105Z"
    }
   },
   "outputs": [
    {
     "name": "stdout",
     "output_type": "stream",
     "text": [
      "<class 'pandas.core.frame.DataFrame'>\n",
      "MultiIndex: 1402295 entries, ('A', Timestamp('2006-01-03 00:00:00')) to ('ZMH', Timestamp('2015-07-02 00:00:00'))\n",
      "Data columns (total 48 columns):\n",
      " #   Column       Non-Null Count    Dtype  \n",
      "---  ------       --------------    -----  \n",
      " 0   ret_01       1401795 non-null  float64\n",
      " 1   ret_03       1400795 non-null  float64\n",
      " 2   ret_05       1399795 non-null  float64\n",
      " 3   ret_10       1397295 non-null  float64\n",
      " 4   ret_21       1391795 non-null  float64\n",
      " 5   ret_42       1381295 non-null  float64\n",
      " 6   ret_63       1370795 non-null  float64\n",
      " 7   ret_126      1339295 non-null  float64\n",
      " 8   ret_252      1276295 non-null  float64\n",
      " 9   ret_fwd      1402295 non-null  float64\n",
      " 10  BB_UP        1392795 non-null  float64\n",
      " 11  BB_LOW       1392795 non-null  float64\n",
      " 12  BB_SQUEEZE   1392795 non-null  float64\n",
      " 13  HT           1370795 non-null  float64\n",
      " 14  SAR          1401795 non-null  float64\n",
      " 15  ADX          1388795 non-null  float64\n",
      " 16  ADXR         1382295 non-null  float64\n",
      " 17  PPO          1389795 non-null  float64\n",
      " 18  AARONOSC     1395295 non-null  float64\n",
      " 19  BOP          1402295 non-null  float64\n",
      " 20  CCI          1395795 non-null  float64\n",
      " 21  MACD         1385795 non-null  float64\n",
      " 22  MACD_SIGNAL  1385795 non-null  float64\n",
      " 23  MACD_HIST    1385795 non-null  float64\n",
      " 24  MFI          1395295 non-null  float64\n",
      " 25  RSI          1395295 non-null  float64\n",
      " 26  STOCHRSI     1387795 non-null  float64\n",
      " 27  STOCH        1393775 non-null  float64\n",
      " 28  ULTOSC       1388295 non-null  float64\n",
      " 29  WILLR        1395795 non-null  float64\n",
      " 30  AD           1402295 non-null  float64\n",
      " 31  ADOSC        1395707 non-null  float64\n",
      " 32  OBV          1402294 non-null  float64\n",
      " 33  ATR          1395295 non-null  float64\n",
      " 34  ALPHA_63     1333088 non-null  float64\n",
      " 35  MARKET_63    1333088 non-null  float64\n",
      " 36  SMB_63       1333088 non-null  float64\n",
      " 37  HML_63       1333088 non-null  float64\n",
      " 38  RMW_63       1333088 non-null  float64\n",
      " 39  CMA_63       1333088 non-null  float64\n",
      " 40  ALPHA_252    1238588 non-null  float64\n",
      " 41  MARKET_252   1238588 non-null  float64\n",
      " 42  SMB_252      1238588 non-null  float64\n",
      " 43  HML_252      1238588 non-null  float64\n",
      " 44  RMW_252      1238588 non-null  float64\n",
      " 45  CMA_252      1238588 non-null  float64\n",
      " 46  month        1402295 non-null  uint8  \n",
      " 47  weekday      1402295 non-null  uint8  \n",
      "dtypes: float64(46), uint8(2)\n",
      "memory usage: 500.4+ MB\n"
     ]
    }
   ],
   "source": [
    "data.info(show_counts=True)"
   ]
  },
  {
   "cell_type": "markdown",
   "metadata": {},
   "source": [
    "To facilitate model formulation, we assign target, features, and categorical variables."
   ]
  },
  {
   "cell_type": "code",
   "execution_count": 11,
   "metadata": {
    "ExecuteTime": {
     "end_time": "2020-07-14T18:18:39.273320Z",
     "start_time": "2020-07-14T18:18:39.270541Z"
    }
   },
   "outputs": [],
   "source": [
    "target = 'ret_fwd'\n",
    "features = data.columns.drop(target)"
   ]
  },
  {
   "cell_type": "code",
   "execution_count": 12,
   "metadata": {
    "ExecuteTime": {
     "end_time": "2020-07-14T18:18:39.283104Z",
     "start_time": "2020-07-14T18:18:39.274213Z"
    }
   },
   "outputs": [],
   "source": [
    "categoricals = ['month', 'weekday']"
   ]
  },
  {
   "cell_type": "markdown",
   "metadata": {},
   "source": [
    "## Custom Time Series Cross-Validation"
   ]
  },
  {
   "cell_type": "markdown",
   "metadata": {},
   "source": [
    "See milestone 4 solution."
   ]
  },
  {
   "cell_type": "code",
   "execution_count": 13,
   "metadata": {
    "ExecuteTime": {
     "end_time": "2020-07-14T18:18:39.292362Z",
     "start_time": "2020-07-14T18:18:39.284047Z"
    }
   },
   "outputs": [],
   "source": [
    "class MultipleTimeSeriesCV:\n",
    "    \"\"\"Generates tuples of train_idx, test_idx pairs\n",
    "    Assumes the MultiIndex contains levels 'symbol' and 'date'\n",
    "    purges overlapping outcomes\"\"\"\n",
    "\n",
    "    def __init__(self,\n",
    "                 n_splits=3,\n",
    "                 train_period_length=126,\n",
    "                 test_period_length=21,\n",
    "                 lookahead=None,\n",
    "                 date_idx='date',\n",
    "                 shuffle=False):\n",
    "        self.n_splits = n_splits\n",
    "        self.lookahead = lookahead\n",
    "        self.test_length = test_period_length\n",
    "        self.train_length = train_period_length\n",
    "        self.shuffle = shuffle\n",
    "        self.date_idx = date_idx\n",
    "\n",
    "    def split(self, X, y=None, groups=None):\n",
    "        unique_dates = X.index.get_level_values(self.date_idx).unique()\n",
    "        days = sorted(unique_dates, reverse=True)\n",
    "        split_idx = []\n",
    "        for i in range(self.n_splits):\n",
    "            test_end_idx = i * self.test_length\n",
    "            test_start_idx = test_end_idx + self.test_length\n",
    "            train_end_idx = test_start_idx + self.lookahead - 1\n",
    "            train_start_idx = train_end_idx + self.train_length + self.lookahead - 1\n",
    "            split_idx.append([train_start_idx, train_end_idx,\n",
    "                              test_start_idx, test_end_idx])\n",
    "\n",
    "        dates = X.reset_index()[[self.date_idx]]\n",
    "        for train_start, train_end, test_start, test_end in split_idx:\n",
    "\n",
    "            train_idx = dates[(dates[self.date_idx] > days[train_start])\n",
    "                              & (dates.date <= days[train_end])].index\n",
    "            test_idx = dates[(dates.date > days[test_start])\n",
    "                             & (dates.date <= days[test_end])].index\n",
    "            if self.shuffle:\n",
    "                np.random.shuffle(list(train_idx))\n",
    "            yield train_idx.to_numpy(), test_idx.to_numpy()\n",
    "\n",
    "    def get_n_splits(self, X, y, groups=None):\n",
    "        return self.n_splits\n"
   ]
  },
  {
   "cell_type": "markdown",
   "metadata": {},
   "source": [
    "## Model Selection: Lookback, lookahead and roll-forward periods"
   ]
  },
  {
   "cell_type": "markdown",
   "metadata": {},
   "source": [
    "We'll use five years of training data to predict the 1-day forward returns for the following three months just as for the linear regression models."
   ]
  },
  {
   "cell_type": "code",
   "execution_count": 14,
   "metadata": {
    "ExecuteTime": {
     "end_time": "2020-07-14T18:18:39.304786Z",
     "start_time": "2020-07-14T18:18:39.293364Z"
    },
    "scrolled": true
   },
   "outputs": [],
   "source": [
    "train_length = 5 * YEAR\n",
    "test_length = 3 * MONTH"
   ]
  },
  {
   "cell_type": "code",
   "execution_count": 15,
   "metadata": {
    "ExecuteTime": {
     "end_time": "2020-07-14T18:18:39.314385Z",
     "start_time": "2020-07-14T18:18:39.305731Z"
    }
   },
   "outputs": [],
   "source": [
    "lookahead = 1"
   ]
  },
  {
   "cell_type": "markdown",
   "metadata": {},
   "source": [
    "We'll create 16 quarters worth of out-of-sample predictions so we can select the past 4 quarters to select a model for a subsequent quarter with three years total of out-of-sample forecasts."
   ]
  },
  {
   "cell_type": "code",
   "execution_count": 16,
   "metadata": {
    "ExecuteTime": {
     "end_time": "2020-07-14T18:18:39.322498Z",
     "start_time": "2020-07-14T18:18:39.315163Z"
    }
   },
   "outputs": [],
   "source": [
    "n_splits = 16"
   ]
  },
  {
   "cell_type": "code",
   "execution_count": 17,
   "metadata": {
    "ExecuteTime": {
     "end_time": "2020-07-14T18:18:39.330627Z",
     "start_time": "2020-07-14T18:18:39.323343Z"
    }
   },
   "outputs": [],
   "source": [
    "cv = MultipleTimeSeriesCV(n_splits=n_splits,\n",
    "                          test_period_length=test_length,\n",
    "                          lookahead=lookahead,\n",
    "                          train_period_length=train_length)"
   ]
  },
  {
   "cell_type": "markdown",
   "metadata": {},
   "source": [
    "Show rolling cross-validation periods - note that the folds move backwards in time:"
   ]
  },
  {
   "cell_type": "code",
   "execution_count": 18,
   "metadata": {
    "ExecuteTime": {
     "end_time": "2020-07-14T18:18:41.149600Z",
     "start_time": "2020-07-14T18:18:39.331503Z"
    }
   },
   "outputs": [
    {
     "name": "stdout",
     "output_type": "stream",
     "text": [
      "Split: 00 | # Train: 2011-11-08 - 2016-09-29 (1,260 days) | Test: 2016-09-30 - 2016-12-29 (63 days)\n",
      "Split: 01 | # Train: 2011-08-11 - 2016-06-30 (1,260 days) | Test: 2016-07-01 - 2016-09-29 (63 days)\n",
      "Split: 02 | # Train: 2011-05-16 - 2016-04-01 (1,260 days) | Test: 2016-04-04 - 2016-06-30 (63 days)\n",
      "Split: 03 | # Train: 2011-02-14 - 2015-12-30 (1,260 days) | Test: 2015-12-31 - 2016-04-01 (63 days)\n",
      "Split: 04 | # Train: 2010-11-17 - 2015-09-30 (1,260 days) | Test: 2015-10-01 - 2015-12-30 (63 days)\n",
      "Split: 05 | # Train: 2010-08-20 - 2015-07-01 (1,260 days) | Test: 2015-07-02 - 2015-09-30 (63 days)\n",
      "Split: 06 | # Train: 2010-05-25 - 2015-04-01 (1,260 days) | Test: 2015-04-02 - 2015-07-01 (63 days)\n",
      "Split: 07 | # Train: 2010-02-25 - 2014-12-30 (1,260 days) | Test: 2014-12-31 - 2015-04-01 (63 days)\n",
      "Split: 08 | # Train: 2009-11-26 - 2014-09-30 (1,260 days) | Test: 2014-10-01 - 2014-12-30 (63 days)\n",
      "Split: 09 | # Train: 2009-08-31 - 2014-07-03 (1,260 days) | Test: 2014-07-04 - 2014-09-30 (63 days)\n",
      "Split: 10 | # Train: 2009-06-03 - 2014-04-07 (1,260 days) | Test: 2014-04-08 - 2014-07-03 (63 days)\n",
      "Split: 11 | # Train: 2009-03-06 - 2014-01-08 (1,260 days) | Test: 2014-01-09 - 2014-04-07 (63 days)\n",
      "Split: 12 | # Train: 2008-12-09 - 2013-10-11 (1,260 days) | Test: 2013-10-14 - 2014-01-08 (63 days)\n",
      "Split: 13 | # Train: 2008-09-11 - 2013-07-16 (1,260 days) | Test: 2013-07-17 - 2013-10-11 (63 days)\n",
      "Split: 14 | # Train: 2008-06-16 - 2013-04-18 (1,260 days) | Test: 2013-04-19 - 2013-07-16 (63 days)\n",
      "Split: 15 | # Train: 2008-03-19 - 2013-01-21 (1,260 days) | Test: 2013-01-22 - 2013-04-18 (63 days)\n"
     ]
    }
   ],
   "source": [
    "for n_split, (train_idx, test_idx) in enumerate(cv.split(X=data)):\n",
    "    train = data.iloc[train_idx]\n",
    "    train_dates = train.index.get_level_values('date')\n",
    "    \n",
    "    test = data.iloc[test_idx]\n",
    "    test_dates = test.index.get_level_values('date')\n",
    "    \n",
    "    train_days = train.groupby(level=\"ticker\").size().value_counts().index[0]\n",
    "    train_start, train_end = train_dates.min().date(), train_dates.max().date()\n",
    "    \n",
    "    test_days = test.groupby(level=\"ticker\").size().value_counts().index[0]\n",
    "    test_start, test_end = test_dates.min().date(), test_dates.max().date()\n",
    "                                                  \n",
    "    print(f'Split: {n_split:02} | # Train: {train_start} - {train_end} ({train_days:5,.0f} days) | '\n",
    "          f'Test: {test_start} - {test_end} ({test_days} days)')"
   ]
  },
  {
   "cell_type": "markdown",
   "metadata": {},
   "source": [
    "## LightGBM Model Tuning"
   ]
  },
  {
   "cell_type": "markdown",
   "metadata": {},
   "source": [
    "### Compute Feature Importance"
   ]
  },
  {
   "cell_type": "code",
   "execution_count": 19,
   "metadata": {
    "ExecuteTime": {
     "end_time": "2020-07-14T18:20:06.236499Z",
     "start_time": "2020-07-14T18:20:06.231431Z"
    }
   },
   "outputs": [],
   "source": [
    "def get_fi(model):\n",
    "    fi = model.feature_importance(importance_type='gain')\n",
    "    return (pd.Series(fi / fi.sum(),\n",
    "                      index=model.feature_name()))"
   ]
  },
  {
   "cell_type": "markdown",
   "metadata": {},
   "source": [
    "### Hyperparameter Options"
   ]
  },
  {
   "cell_type": "markdown",
   "metadata": {},
   "source": [
    "See LightGBM [docs](https://lightgbm.readthedocs.io/en/latest/Parameters.html) for details on the various hyperparameters."
   ]
  },
  {
   "cell_type": "code",
   "execution_count": 20,
   "metadata": {
    "ExecuteTime": {
     "end_time": "2020-07-14T18:20:06.542926Z",
     "start_time": "2020-07-14T18:20:06.539731Z"
    },
    "scrolled": true
   },
   "outputs": [],
   "source": [
    "base_params = dict(boosting='gbdt',\n",
    "                   objective='regression',\n",
    "                   metric='None',\n",
    "#                    device='gpu', # uncomment when using GPU\n",
    "#                    max_bin=63,   # uncomment when using GPU\n",
    "                   verbose=-1)"
   ]
  },
  {
   "cell_type": "markdown",
   "metadata": {},
   "source": [
    "Here are some reasonable hyperparameter choices; feel free to experiment!"
   ]
  },
  {
   "cell_type": "code",
   "execution_count": 21,
   "metadata": {
    "ExecuteTime": {
     "end_time": "2020-07-14T18:20:06.712333Z",
     "start_time": "2020-07-14T18:20:06.707884Z"
    },
    "scrolled": true
   },
   "outputs": [],
   "source": [
    "learning_rate_ops = [.01]\n",
    "max_depths = [5, 6, 7]\n",
    "\n",
    "# we'll set the num_leaves parameter to enable leaf-wise growth\n",
    "num_leaves_opts = [2 ** i for i in max_depths]\n",
    "feature_fraction_opts = [.6, .95]\n",
    "min_data_in_leaf_opts = [250, 750, 1500]"
   ]
  },
  {
   "cell_type": "code",
   "execution_count": 22,
   "metadata": {
    "ExecuteTime": {
     "end_time": "2020-07-14T18:20:06.853468Z",
     "start_time": "2020-07-14T18:20:06.850071Z"
    }
   },
   "outputs": [],
   "source": [
    "param_names = ['learning_rate', \n",
    "               'num_leaves',\n",
    "               'feature_fraction', \n",
    "               'min_data_in_leaf']"
   ]
  },
  {
   "cell_type": "code",
   "execution_count": 23,
   "metadata": {
    "ExecuteTime": {
     "end_time": "2020-07-14T18:20:07.004418Z",
     "start_time": "2020-07-14T18:20:06.999498Z"
    },
    "scrolled": true
   },
   "outputs": [
    {
     "name": "stdout",
     "output_type": "stream",
     "text": [
      "# Parameters: 18\n"
     ]
    }
   ],
   "source": [
    "cv_params = list(product(learning_rate_ops,\n",
    "                         num_leaves_opts,\n",
    "                         feature_fraction_opts,\n",
    "                         min_data_in_leaf_opts))\n",
    "n_params = len(cv_params)\n",
    "print(f'# Parameters: {n_params}')"
   ]
  },
  {
   "cell_type": "markdown",
   "metadata": {},
   "source": [
    "We randomly sample cv param combinations (here: 50%)"
   ]
  },
  {
   "cell_type": "code",
   "execution_count": 24,
   "metadata": {
    "ExecuteTime": {
     "end_time": "2020-07-14T18:20:07.173939Z",
     "start_time": "2020-07-14T18:20:07.169745Z"
    }
   },
   "outputs": [],
   "source": [
    "cvp = np.random.choice(list(range(n_params)),\n",
    "                       size=int(n_params / 1),\n",
    "                       replace=False)\n",
    "cv_params_ = [cv_params[i] for i in cvp]"
   ]
  },
  {
   "cell_type": "markdown",
   "metadata": {},
   "source": [
    "The number of iterations is another hyperparamter to optimize: To do so, we generate predictions for a range of iterations."
   ]
  },
  {
   "cell_type": "code",
   "execution_count": 25,
   "metadata": {
    "ExecuteTime": {
     "end_time": "2020-07-14T18:20:08.943920Z",
     "start_time": "2020-07-14T18:20:08.938413Z"
    },
    "scrolled": true
   },
   "outputs": [],
   "source": [
    "num_boost_rounds = [10, 25, 50, 75, 100, 150, 200] + list(range(250, 5001, 250))"
   ]
  },
  {
   "cell_type": "markdown",
   "metadata": {},
   "source": [
    "### Run Cross-Validation"
   ]
  },
  {
   "cell_type": "markdown",
   "metadata": {},
   "source": [
    "With this setup, we'll train 18 different models for 16 folds each, using the past five years to predict the next three months."
   ]
  },
  {
   "cell_type": "code",
   "execution_count": 26,
   "metadata": {
    "ExecuteTime": {
     "end_time": "2020-07-14T18:20:09.419316Z",
     "start_time": "2020-07-14T18:20:09.414854Z"
    }
   },
   "outputs": [
    {
     "name": "stdout",
     "output_type": "stream",
     "text": [
      "Train: 1260 | Test: 63 | Folds: 16 | Params:  18\n"
     ]
    }
   ],
   "source": [
    "print(f'Train: {train_length:3.0f} | '\n",
    "      f'Test: {test_length:2.0f} | '\n",
    "      f'Folds: {n_splits:.0f} | '\n",
    "      f'Params: {len(cv_params_):3.0f}')"
   ]
  },
  {
   "cell_type": "code",
   "execution_count": 27,
   "metadata": {
    "ExecuteTime": {
     "end_time": "2020-07-14T18:20:09.677976Z",
     "start_time": "2020-07-14T18:20:09.674917Z"
    }
   },
   "outputs": [],
   "source": [
    "lgb_store = 'lgb_tuning.h5'"
   ]
  },
  {
   "cell_type": "code",
   "execution_count": 28,
   "metadata": {
    "ExecuteTime": {
     "end_time": "2020-07-14T18:20:12.428290Z",
     "start_time": "2020-07-14T18:20:12.422554Z"
    }
   },
   "outputs": [],
   "source": [
    "model_path = Path('models')\n",
    "if not model_path.exists():\n",
    "    model_path.mkdir()"
   ]
  },
  {
   "cell_type": "markdown",
   "metadata": {},
   "source": [
    "Ready to go: for each fold, we'll plot the best iteration and the corresponding avg. daily IC and its coefficient of variation as well as the time per iteration."
   ]
  },
  {
   "cell_type": "code",
   "execution_count": 29,
   "metadata": {
    "ExecuteTime": {
     "end_time": "2020-07-15T02:22:24.865458Z",
     "start_time": "2020-07-14T18:23:06.676063Z"
    }
   },
   "outputs": [
    {
     "name": "stdout",
     "output_type": "stream",
     "text": [
      " 0 |  5,000 |  1.92% |    7.8 |  39.2\n",
      " 1 |     10 | -0.21% |  -62.4 |  37.5\n",
      " 2 |    100 |  1.25% |   14.2 |  37.0\n",
      " 3 |  2,750 |  3.91% |    5.6 |  37.0\n",
      " 4 |     25 |  3.74% |    3.4 |  36.3\n",
      " 5 |    250 |  3.25% |    4.7 |  37.1\n",
      " 6 |    500 |  1.98% |    6.4 |  37.7\n",
      " 7 |  3,000 |  3.03% |    4.9 |  38.8\n",
      " 8 |  2,750 |  3.07% |    6.3 |  37.3\n",
      " 9 |    100 |  1.07% |    8.6 |  37.8\n",
      "10 |  4,500 |  1.75% |    7.0 |  37.8\n",
      "11 |  5,000 |  3.78% |    2.6 |  37.9\n",
      "12 |  4,000 |  2.26% |    3.4 |  37.5\n",
      "13 |    150 |  1.80% |    4.3 |  35.8\n",
      "14 |     10 |  3.23% |    3.1 |  36.0\n",
      "15 |  5,000 | -0.95% |  -10.4 |  37.3\n",
      "\n",
      "  0 | 00:09:59 | 00:09:59 |  0.01 |  32 | 60% |  250 |   1.77% |  4250\n",
      " 0 |  3,250 |  1.95% |    7.6 |  41.9\n",
      " 1 |  5,000 |  0.18% |   74.9 |  41.2\n",
      " 2 |    200 |  1.64% |   11.6 |  40.0\n",
      " 3 |  2,250 |  3.67% |    6.2 |  39.6\n",
      " 4 |     25 |  3.92% |    3.4 |  39.2\n",
      " 5 |  1,000 |  3.13% |    4.4 |  38.1\n",
      " 6 |    500 |  1.91% |    6.7 |  38.3\n",
      " 7 |  5,000 |  2.80% |    5.2 |  39.8\n",
      " 8 |  3,000 |  3.47% |    5.3 |  37.5\n",
      " 9 |     50 |  1.24% |    7.3 |  38.5\n",
      "10 |     10 |  1.73% |    6.2 |  38.7\n",
      "11 |  4,750 |  3.32% |    3.1 |  41.4\n",
      "12 |  4,500 |  2.36% |    3.4 |  40.5\n",
      "13 |     25 |  1.73% |    4.5 |  39.2\n",
      "14 |     10 |  2.88% |    4.0 |  39.3\n",
      "15 |  5,000 | -1.17% |   -8.2 |  41.8\n",
      "\n",
      "  1 | 00:20:34 | 00:10:35 |  0.01 |  32 | 60% |  750 |   1.72% |  2250\n",
      " 0 |  1,000 |  0.88% |   16.6 |  61.7\n",
      " 1 |  5,000 |  0.11% |  119.3 |  60.5\n",
      " 2 |    500 |  1.75% |   12.1 |  59.8\n",
      " 3 |  1,000 |  3.70% |    6.0 |  58.4\n",
      " 4 |    200 |  5.00% |    3.0 |  60.0\n",
      " 5 |  1,000 |  4.20% |    3.2 |  58.1\n",
      " 6 |    500 |  2.28% |    5.3 |  57.0\n",
      " 7 |  1,250 |  3.33% |    4.5 |  57.6\n",
      " 8 |  5,000 |  3.79% |    4.2 |  55.9\n",
      " 9 |     50 |  1.18% |    8.1 |  57.1\n",
      "10 |     75 |  1.12% |   12.0 |  56.8\n",
      "11 |  5,000 |  3.34% |    2.9 |  64.7\n",
      "12 |  2,250 |  2.53% |    3.2 |  62.0\n",
      "13 |  3,250 |  1.11% |    9.2 |  63.5\n",
      "14 |     25 |  3.67% |    3.2 |  63.2\n",
      "15 |  2,500 | -0.99% |   -9.4 |  64.5\n",
      "\n",
      "  2 | 00:36:35 | 00:16:01 |  0.01 |  64 | 60% | 1500 |   1.77% |  1000\n",
      " 0 |  3,750 |  1.11% |   13.0 |  51.1\n",
      " 1 |  3,000 |  0.94% |   13.7 |  52.0\n",
      " 2 |    100 |  2.71% |    7.2 |  52.2\n",
      " 3 |  1,750 |  3.77% |    5.8 |  50.5\n",
      " 4 |    150 |  3.96% |    4.1 |  47.9\n",
      " 5 |  1,000 |  3.74% |    3.6 |  49.9\n",
      " 6 |     25 |  0.80% |   15.6 |  50.0\n",
      " 7 |  3,000 |  3.14% |    4.5 |  50.7\n",
      " 8 |     75 |  4.38% |    4.9 |  50.2\n",
      " 9 |     75 |  2.04% |    4.3 |  53.0\n",
      "10 |     75 |  1.87% |    6.5 |  49.6\n",
      "11 |  2,500 |  3.48% |    2.8 |  50.4\n",
      "12 |  4,750 |  2.30% |    3.1 |  51.7\n",
      "13 |     50 |  1.18% |    6.7 |  52.5\n",
      "14 |    150 |  3.69% |    3.1 |  52.1\n",
      "15 |     10 | -1.01% |  -11.4 |  50.8\n",
      "\n",
      "  3 | 00:50:11 | 00:13:35 |  0.01 |  32 | 95% | 1500 |   1.64% |  2500\n",
      " 0 |  4,500 |  2.09% |    6.8 |  43.2\n",
      " 1 |  1,250 |  0.91% |   16.5 |  43.8\n",
      " 2 |    150 |  2.03% |    9.7 |  44.5\n",
      " 3 |  2,250 |  3.58% |    6.0 |  45.3\n",
      " 4 |    250 |  4.08% |    3.8 |  41.7\n",
      " 5 |    750 |  3.14% |    4.6 |  43.8\n",
      " 6 |  1,000 |  2.05% |    5.7 |  45.4\n",
      " 7 |  1,750 |  2.47% |    6.3 |  44.4\n",
      " 8 |  4,250 |  3.08% |    5.5 |  44.2\n",
      " 9 |    100 |  2.58% |    3.5 |  44.3\n",
      "10 |     75 |  1.78% |    7.2 |  43.6\n",
      "11 |  4,000 |  3.32% |    3.1 |  45.0\n",
      "12 |  5,000 |  2.03% |    4.0 |  44.7\n",
      "13 |     50 |  2.19% |    3.5 |  44.1\n",
      "14 |    100 |  4.62% |    2.1 |  44.5\n",
      "15 |  4,250 | -0.18% |  -53.1 |  43.8\n",
      "\n",
      "  4 | 01:01:57 | 00:11:47 |  0.01 |  32 | 95% |  250 |   1.70% |  2000\n",
      " 0 |     10 |  0.75% |   17.2 |  81.0\n",
      " 1 |  5,000 |  1.45% |    9.5 |  77.2\n",
      " 2 |  5,000 |  1.65% |   11.6 |  77.0\n",
      " 3 |  1,000 |  3.19% |    6.9 |  73.1\n",
      " 4 |    500 |  4.38% |    3.5 |  73.9\n",
      " 5 |    500 |  3.80% |    3.7 |  71.6\n",
      " 6 |    500 |  1.70% |    7.3 |  73.3\n",
      " 7 |    200 |  3.40% |    4.8 |  72.9\n",
      " 8 |  3,000 |  4.58% |    3.6 |  73.1\n",
      " 9 |     50 |  1.08% |    9.0 |  74.6\n",
      "10 |     25 |  2.03% |    6.0 |  73.3\n",
      "11 |  3,000 |  3.86% |    2.5 |  78.6\n",
      "12 |  3,750 |  2.84% |    3.0 |  78.4\n",
      "13 |     75 |  1.30% |    7.2 |  80.0\n",
      "14 |     10 |  3.22% |    3.6 |  83.9\n",
      "15 |  2,750 | -1.18% |   -7.8 |  82.5\n",
      "\n",
      "  5 | 01:22:23 | 00:20:25 |  0.01 | 128 | 60% |  750 |   1.66% |  1500\n",
      " 0 |  1,500 |  0.59% |   22.9 |  89.0\n",
      " 1 |  4,500 |  1.60% |    8.7 |  92.3\n",
      " 2 |     75 |  3.79% |    5.1 |  90.0\n",
      " 3 |     25 |  3.35% |    6.5 |  86.8\n",
      " 4 |     50 |  5.52% |    2.8 |  83.2\n",
      " 5 |    250 |  3.98% |    3.7 |  87.4\n",
      " 6 |    200 |  1.58% |    7.4 |  85.5\n",
      " 7 |     10 |  3.40% |    4.5 |  83.5\n",
      " 8 |    100 |  3.87% |    5.2 |  85.8\n",
      " 9 |    100 |  0.06% |  150.6 |  87.1\n",
      "10 |    500 |  1.40% |    9.6 |  85.1\n",
      "11 |  3,000 |  3.74% |    2.8 |  92.8\n",
      "12 |  2,250 |  2.79% |    3.0 |  96.2\n",
      "13 |  4,000 |  0.66% |   14.9 |  95.8\n",
      "14 |     25 |  2.87% |    3.8 |  93.4\n",
      "15 |  2,500 | -0.95% |   -9.4 |  93.4\n",
      "\n",
      "  6 | 01:46:10 | 00:23:48 |  0.01 | 128 | 95% |  750 |   1.69% |   500\n",
      " 0 |  1,250 |  1.45% |    9.0 |  71.9\n",
      " 1 |  1,750 |  1.20% |   11.4 |  72.5\n",
      " 2 |     25 |  2.22% |    7.1 |  72.5\n",
      " 3 |    750 |  3.74% |    5.7 |  71.9\n",
      " 4 |    150 |  4.66% |    3.4 |  68.4\n",
      " 5 |    200 |  3.55% |    4.4 |  70.7\n",
      " 6 |    200 |  2.74% |    4.4 |  70.7\n",
      " 7 |     50 |  3.44% |    5.0 |  72.4\n",
      " 8 |    100 |  3.90% |    5.2 |  71.6\n",
      " 9 |    100 | -0.32% |  -32.2 |  71.2\n",
      "10 |    150 |  0.98% |   13.9 |  71.8\n",
      "11 |  4,750 |  3.40% |    3.1 |  73.5\n",
      "12 |  1,500 |  2.09% |    4.1 |  73.0\n",
      "13 |    100 |  1.26% |    8.0 |  73.5\n",
      "14 |     25 |  3.83% |    2.9 |  73.2\n",
      "15 |  4,500 | -0.48% |  -20.6 |  74.0\n",
      "\n",
      "  7 | 02:05:24 | 00:19:13 |  0.01 | 128 | 95% |  250 |   1.67% |  1500\n",
      " 0 |  2,000 |  0.50% |   29.3 |  68.6\n",
      " 1 |  5,000 |  0.71% |   18.9 |  68.8\n",
      " 2 |     75 |  2.32% |    8.4 |  69.0\n",
      " 3 |  1,000 |  3.11% |    6.9 |  67.1\n",
      " 4 |    100 |  4.15% |    3.7 |  65.2\n",
      " 5 |    750 |  4.12% |    3.4 |  66.6\n",
      " 6 |    500 |  1.62% |    6.9 |  66.6\n",
      " 7 |  2,500 |  3.32% |    4.1 |  66.3\n",
      " 8 |     75 |  4.38% |    4.6 |  65.9\n",
      " 9 |     75 |  0.60% |   16.2 |  66.7\n",
      "10 |    100 |  1.16% |   11.6 |  66.6\n",
      "11 |  2,500 |  3.39% |    3.1 |  70.8\n",
      "12 |  3,250 |  2.47% |    3.4 |  70.3\n",
      "13 |  1,750 |  1.25% |    8.2 |  72.1\n",
      "14 |    100 |  3.59% |    3.5 |  72.3\n",
      "15 |  2,250 | -1.03% |   -9.1 |  73.3\n",
      "\n",
      "  8 | 02:23:41 | 00:18:17 |  0.01 |  64 | 95% | 1500 |   1.65% |  1500\n",
      " 0 |  3,000 |  1.56% |    9.8 |  45.3\n",
      " 1 |  4,750 | -0.47% |  -27.2 |  43.3\n",
      " 2 |    250 |  1.34% |   14.2 |  43.6\n",
      " 3 |  2,250 |  3.79% |    5.8 |  43.2\n",
      " 4 |    200 |  4.54% |    3.5 |  42.7\n",
      " 5 |    750 |  3.89% |    3.6 |  42.7\n",
      " 6 |  1,000 |  1.37% |    8.3 |  43.5\n",
      " 7 |  3,000 |  3.21% |    4.4 |  44.7\n",
      " 8 |  5,000 |  3.36% |    4.9 |  42.4\n",
      " 9 |     25 |  1.51% |    6.4 |  43.2\n",
      "10 |     10 |  1.82% |    5.7 |  42.3\n",
      "11 |  5,000 |  3.11% |    3.2 |  45.1\n",
      "12 |  5,000 |  2.38% |    3.3 |  44.8\n",
      "13 |     25 |  1.80% |    4.4 |  44.0\n",
      "14 |    100 |  3.24% |    3.6 |  44.1\n",
      "15 |  2,500 | -0.76% |  -12.6 |  45.7\n",
      "\n",
      "  9 | 02:35:22 | 00:11:41 |  0.01 |  32 | 60% | 1500 |   1.69% |  1500\n",
      " 0 |  2,500 |  2.04% |    6.9 |  52.3\n",
      " 1 |  3,750 |  1.28% |   10.5 |  53.5\n",
      " 2 |    200 |  2.52% |    8.7 |  53.9\n",
      " 3 |  2,500 |  3.93% |    5.5 |  53.9\n",
      " 4 |    150 |  4.17% |    4.0 |  50.9\n",
      " 5 |    150 |  4.21% |    3.9 |  53.5\n",
      " 6 |    750 |  1.59% |    7.1 |  54.0\n",
      " 7 |     75 |  2.81% |    6.7 |  54.5\n",
      " 8 |  4,750 |  4.09% |    4.1 |  53.8\n",
      " 9 |    100 |  0.66% |   14.0 |  53.8\n",
      "10 |    500 |  1.30% |   11.2 |  54.1\n",
      "11 |  4,250 |  3.58% |    2.9 |  55.0\n",
      "12 |  3,500 |  2.18% |    3.7 |  54.4\n",
      "13 |     50 |  1.90% |    4.1 |  54.1\n",
      "14 |    150 |  4.57% |    2.2 |  54.1\n",
      "15 |  5,000 | -0.59% |  -16.3 |  54.1\n",
      "\n",
      " 10 | 02:49:43 | 00:14:21 |  0.01 |  64 | 95% |  250 |   1.70% |  1250\n",
      " 0 |  2,250 | -0.10% | -144.0 | 101.1\n",
      " 1 |  5,000 |  0.57% |   22.2 | 103.5\n",
      " 2 |    100 |  2.87% |    7.0 | 102.5\n",
      " 3 |     10 |  4.08% |    5.3 |  99.3\n",
      " 4 |     75 |  4.47% |    3.5 |  99.5\n",
      " 5 |    500 |  4.36% |    3.2 |  99.9\n",
      " 6 |    250 |  1.39% |    8.3 |  98.9\n",
      " 7 |    750 |  2.74% |    5.7 |  98.7\n",
      " 8 |  5,000 |  4.07% |    3.7 |  99.0\n",
      " 9 |     10 |  1.68% |    5.3 |  99.8\n",
      "10 |    200 |  1.21% |   12.1 | 100.4\n",
      "11 |  3,750 |  4.01% |    2.6 | 106.4\n",
      "12 |  5,000 |  2.84% |    2.8 | 106.4\n",
      "13 |  3,500 |  1.11% |    8.2 | 109.0\n",
      "14 |     75 |  2.82% |    4.3 | 109.1\n",
      "15 |  5,000 |  0.01% | 1276.7 | 109.1\n",
      "\n",
      " 11 | 03:17:06 | 00:27:23 |  0.01 | 128 | 95% | 1500 |   1.75% |   750\n",
      " 0 |  5,000 |  1.64% |    8.6 |  46.8\n",
      " 1 |    500 |  1.04% |   14.1 |  47.3\n",
      " 2 |    250 |  2.38% |    8.6 |  47.7\n",
      " 3 |  2,000 |  3.20% |    6.7 |  47.7\n",
      " 4 |    500 |  4.06% |    3.5 |  45.2\n",
      " 5 |    750 |  2.71% |    5.1 |  47.6\n",
      " 6 |     50 |  1.39% |    8.4 |  47.3\n",
      " 7 |  2,000 |  2.86% |    5.4 |  47.8\n",
      " 8 |     25 |  4.21% |    5.0 |  46.5\n",
      " 9 |    100 |  2.21% |    3.8 |  47.3\n",
      "10 |     25 |  2.62% |    4.4 |  46.9\n",
      "11 |  4,500 |  3.32% |    3.1 |  48.2\n",
      "12 |  5,000 |  2.87% |    2.6 |  47.2\n",
      "13 |     50 |  1.31% |    5.3 |  46.9\n",
      "14 |    100 |  4.67% |    2.3 |  46.7\n",
      "15 |  4,500 | -1.01% |   -9.0 |  47.2\n",
      "\n",
      " 12 | 03:29:41 | 00:12:35 |  0.01 |  32 | 95% |  750 |   1.62% |  1750\n",
      " 0 |  5,000 |  1.44% |    9.5 |  62.6\n",
      " 1 |  5,000 |  0.85% |   15.6 |  60.5\n",
      " 2 |  4,750 |  1.47% |   13.6 |  60.8\n",
      " 3 |  1,250 |  4.11% |    5.2 |  59.8\n",
      " 4 |    200 |  3.91% |    3.9 |  60.4\n",
      " 5 |    500 |  3.56% |    4.1 |  59.8\n",
      " 6 |    500 |  1.88% |    6.8 |  61.0\n",
      " 7 |  1,000 |  3.41% |    4.5 |  61.8\n",
      " 8 |  2,750 |  4.04% |    4.3 |  60.2\n",
      " 9 |     50 |  0.56% |   17.0 |  60.7\n",
      "10 |     50 |  1.86% |    6.8 |  59.8\n",
      "11 |  5,000 |  3.75% |    2.7 |  63.1\n",
      "12 |  4,250 |  2.71% |    3.1 |  62.9\n",
      "13 |     10 |  1.41% |    5.4 |  61.8\n",
      "14 |     50 |  3.31% |    3.4 |  62.0\n",
      "15 |  5,000 | -0.48% |  -20.4 |  63.7\n",
      "\n",
      " 13 | 03:46:02 | 00:16:22 |  0.01 | 128 | 60% |  250 |   1.69% |  1750\n",
      " 0 |  1,500 |  1.52% |    9.4 |  54.1\n",
      " 1 |  5,000 |  0.68% |   20.0 |  51.4\n",
      " 2 |     75 |  1.58% |   11.6 |  47.7\n",
      " 3 |  1,750 |  3.78% |    5.7 |  47.6\n",
      " 4 |    250 |  4.66% |    3.3 |  47.2\n",
      " 5 |    750 |  2.73% |    5.2 |  47.0\n",
      " 6 |    500 |  1.66% |    7.1 |  47.7\n",
      " 7 |  1,250 |  3.35% |    4.5 |  49.0\n",
      " 8 |  5,000 |  4.02% |    4.1 |  46.6\n",
      " 9 |     50 |  0.64% |   13.6 |  47.6\n",
      "10 |  1,500 |  1.39% |    9.4 |  46.8\n",
      "11 |  5,000 |  3.55% |    2.7 |  49.5\n",
      "12 |  3,500 |  2.90% |    3.0 |  49.6\n",
      "13 |     75 |  1.83% |    4.3 |  48.6\n",
      "14 |    100 |  3.64% |    3.1 |  48.9\n",
      "15 |  4,000 | -1.05% |   -9.0 |  50.6\n",
      "\n",
      " 14 | 03:59:03 | 00:13:00 |  0.01 |  64 | 60% |  750 |   1.73% |  1250\n",
      " 0 |  1,000 |  1.10% |   13.1 |  55.1\n",
      " 1 |  5,000 |  1.00% |   13.6 |  55.4\n",
      " 2 |    100 |  2.70% |    7.5 |  56.1\n",
      " 3 |     10 |  3.34% |    6.4 |  54.6\n",
      " 4 |     50 |  4.88% |    3.1 |  50.7\n",
      " 5 |    250 |  3.22% |    4.6 |  54.2\n",
      " 6 |     10 |  1.59% |    7.6 |  54.4\n",
      " 7 |     75 |  3.21% |    5.3 |  54.4\n",
      " 8 |     75 |  4.62% |    4.3 |  53.2\n",
      " 9 |     50 |  0.51% |   17.4 |  53.8\n",
      "10 |     75 |  1.35% |    9.6 |  53.7\n",
      "11 |  1,500 |  3.38% |    3.0 |  55.7\n",
      "12 |  4,750 |  2.37% |    3.4 |  55.4\n",
      "13 |     25 |  1.83% |    4.7 |  56.0\n",
      "14 |     75 |  4.34% |    2.4 |  56.2\n",
      "15 |  3,750 | -0.75% |  -12.2 |  55.8\n",
      "\n",
      " 15 | 04:13:38 | 00:14:35 |  0.01 |  64 | 95% |  750 |   1.56% |  1250\n",
      " 0 |  1,750 |  0.35% |   42.1 |  82.6\n",
      " 1 |  5,000 |  0.51% |   25.2 |  80.8\n",
      " 2 |    500 |  2.41% |    8.6 |  80.6\n",
      " 3 |    750 |  3.35% |    6.5 |  78.0\n",
      " 4 |    200 |  4.79% |    3.2 |  79.1\n",
      " 5 |    500 |  4.45% |    3.1 |  77.5\n",
      " 6 |    500 |  1.95% |    6.5 |  79.1\n",
      " 7 |  1,250 |  3.31% |    4.3 |  80.8\n",
      " 8 |  3,500 |  4.27% |    3.7 |  77.7\n",
      " 9 |     50 |  1.40% |    7.2 |  79.6\n",
      "10 |     50 |  1.36% |    8.9 |  79.4\n",
      "11 |  4,500 |  3.49% |    2.8 |  85.4\n",
      "12 |  4,250 |  3.04% |    2.7 |  86.1\n",
      "13 |    100 |  1.16% |    8.3 |  86.0\n",
      "14 |     50 |  3.14% |    4.3 |  86.4\n",
      "15 |  4,750 | -0.33% |  -26.5 |  87.3\n",
      "\n",
      " 16 | 04:35:25 | 00:21:47 |  0.01 | 128 | 60% | 1500 |   1.83% |  1000\n",
      " 0 |  3,500 |  1.89% |    7.5 |  43.8\n",
      " 1 |  5,000 |  0.71% |   17.8 |  42.1\n",
      " 2 |  5,000 |  0.98% |   20.2 |  42.2\n",
      " 3 |  2,750 |  4.18% |    5.1 |  42.3\n",
      " 4 |  1,500 |  4.11% |    3.5 |  42.2\n",
      " 5 |    500 |  2.85% |    5.6 |  42.4\n",
      " 6 |    500 |  2.06% |    6.0 |  43.2\n",
      " 7 |  1,250 |  3.22% |    4.7 |  44.2\n",
      " 8 |  5,000 |  3.83% |    4.4 |  42.1\n",
      " 9 |    100 |  0.38% |   24.1 |  42.4\n",
      "10 |     25 |  1.69% |    6.3 |  42.2\n",
      "11 |  5,000 |  3.60% |    2.9 |  44.2\n",
      "12 |  2,000 |  2.31% |    3.5 |  43.9\n",
      "13 |     25 |  1.90% |    4.2 |  42.2\n",
      "14 |     75 |  3.24% |    3.3 |  42.7\n",
      "15 |  5,000 | -0.82% |  -11.8 |  44.4\n",
      "\n",
      " 17 | 04:46:52 | 00:11:27 |  0.01 |  64 | 60% |  250 |   1.71% |  2500\n"
     ]
    }
   ],
   "source": [
    "T = 0\n",
    "for p, param_vals in enumerate(cv_params_):\n",
    "\n",
    "    key = '/'.join([str(p) for p in param_vals])\n",
    "    model_key = '_'.join(key.split('/'))\n",
    "    params = dict(zip(param_names, param_vals))\n",
    "    params.update(base_params)\n",
    "    start = time()\n",
    "\n",
    "    # create data structures to store results\n",
    "    daily_ic_mean = np.full(shape=(len(num_boost_rounds),\n",
    "                                   n_splits),\n",
    "                            fill_value=np.nan)\n",
    "    daily_ic_std = daily_ic_mean.copy()\n",
    "\n",
    "    # train on data through 2016 to select the best model\n",
    "    for n_split, (train_idx, test_idx) in enumerate(cv.split(X=data)):\n",
    "        print(f'{n_split:2.0f} |', end=' ', flush=True)\n",
    "        iteration = time()\n",
    "\n",
    "        # select data points and create binary train set\n",
    "        train_set = data.iloc[train_idx, :]\n",
    "        lgb_train = lgb.Dataset(data=train_set.loc[:, features],\n",
    "                                label=train_set[target],\n",
    "                                categorical_feature=categoricals,\n",
    "                                free_raw_data=False)\n",
    "\n",
    "        # create test data\n",
    "        test_set = data.iloc[test_idx, :]\n",
    "        X_test = test_set.loc[:, features]\n",
    "        y_test = test_set.loc[:, target].to_frame('y_true')\n",
    "        \n",
    "        # train model for max num_boost_rounds\n",
    "        model = lgb.train(params=params,\n",
    "                          train_set=lgb_train,\n",
    "                          num_boost_round=num_boost_rounds[-1],\n",
    "                          verbose_eval=False)\n",
    "        \n",
    "        # persist model to generate out-of-sample predictions\n",
    "        model_file = model_path / f'{model_key}_{n_split}.txt'\n",
    "        model.save_model(model_file.as_posix())\n",
    "        \n",
    "        # evaluate trained model for various num_boost_rounds\n",
    "        for i, num_boost_round in enumerate(num_boost_rounds):\n",
    "            y_pred = model.predict(X_test, num_iteration=num_boost_round)\n",
    "            y_test = y_test.assign(y_pred=y_pred)\n",
    "            \n",
    "            # compute daily information coefficient\n",
    "            daily_ic = (y_test.groupby(level='date')\n",
    "                        .apply(lambda x: spearmanr(x.y_true, x.y_pred)[0]))\n",
    "\n",
    "            daily_ic_mean[i, n_split] = daily_ic.mean()\n",
    "            daily_ic_std[i, n_split] = daily_ic.std()\n",
    "\n",
    "        mu = pd.Series(daily_ic_mean[:, n_split], index=num_boost_rounds)\n",
    "        s = pd.Series(daily_ic_std[:, n_split], index=num_boost_rounds)\n",
    "        msg = f'{mu.idxmax():6,.0f} | {mu.max():6.2%} | {s[mu.idxmax()]/mu.max():6.1f} | '\n",
    "        print(msg + f'{time() - iteration:5.1f}', flush=True)\n",
    "\n",
    "    t = time() - start\n",
    "    T += t\n",
    "    \n",
    "    ic = pd.DataFrame(daily_ic_mean, index=num_boost_rounds)\n",
    "    ic_mean = ic.mean(1).max()\n",
    "    ic_mean_n = ic.mean(1).idxmax()\n",
    "\n",
    "    print(f'\\n{p:3.0f} | {format_time(T)} | {format_time(t)} | {params[\"learning_rate\"]:5.2f} | '\n",
    "          f'{params[\"num_leaves\"]:3.0f} | {params[\"feature_fraction\"]:3.0%} | '\n",
    "          f'{params[\"min_data_in_leaf\"]:4.0f} | '\n",
    "          f' {ic_mean:6.2%} | {ic_mean_n:5.0f}')\n",
    "    \n",
    "    ic.to_hdf(lgb_store, 'ic/' + key)"
   ]
  },
  {
   "cell_type": "markdown",
   "metadata": {},
   "source": [
    "### Collect Results"
   ]
  },
  {
   "cell_type": "markdown",
   "metadata": {},
   "source": [
    "Here we gather the daily IC values for the various models alongside the matching hyperparameters."
   ]
  },
  {
   "cell_type": "code",
   "execution_count": 30,
   "metadata": {
    "ExecuteTime": {
     "end_time": "2020-07-15T02:29:53.595581Z",
     "start_time": "2020-07-15T02:29:53.591243Z"
    }
   },
   "outputs": [],
   "source": [
    "id_vars = ['num_iteration', 'learning_rate', 'num_leaves', 'feature_frac', 'num_data']"
   ]
  },
  {
   "cell_type": "code",
   "execution_count": 31,
   "metadata": {
    "ExecuteTime": {
     "end_time": "2020-07-15T02:29:53.852419Z",
     "start_time": "2020-07-15T02:29:53.741999Z"
    }
   },
   "outputs": [],
   "source": [
    "results = []\n",
    "with pd.HDFStore('lgb_tuning.h5') as store:\n",
    "    for k in [k[1:] for k in store.keys() if k[1:].startswith('ic/')]:\n",
    "        _, lr, num_leaves, feature_frac, num_data = k.split('/')\n",
    "        results.append(store[k].assign(learning_rate=float(lr),\n",
    "                                       num_leaves=int(num_leaves),\n",
    "                                       feature_frac=float(feature_frac),\n",
    "                                       num_data=int(num_data)))"
   ]
  },
  {
   "cell_type": "code",
   "execution_count": 32,
   "metadata": {
    "ExecuteTime": {
     "end_time": "2020-07-15T02:29:53.924874Z",
     "start_time": "2020-07-15T02:29:53.901439Z"
    }
   },
   "outputs": [],
   "source": [
    "results = pd.concat(results).reset_index().rename(columns={'index': 'num_iteration'})\n",
    "results = pd.melt(results,\n",
    "                  id_vars=id_vars,\n",
    "                  value_name='ic',\n",
    "                  var_name='fold').apply(pd.to_numeric)"
   ]
  },
  {
   "cell_type": "code",
   "execution_count": 33,
   "metadata": {
    "ExecuteTime": {
     "end_time": "2020-07-15T02:29:55.999653Z",
     "start_time": "2020-07-15T02:29:55.992744Z"
    }
   },
   "outputs": [
    {
     "name": "stdout",
     "output_type": "stream",
     "text": [
      "<class 'pandas.core.frame.DataFrame'>\n",
      "RangeIndex: 7776 entries, 0 to 7775\n",
      "Data columns (total 7 columns):\n",
      " #   Column         Non-Null Count  Dtype  \n",
      "---  ------         --------------  -----  \n",
      " 0   num_iteration  7776 non-null   int64  \n",
      " 1   learning_rate  7776 non-null   float64\n",
      " 2   num_leaves     7776 non-null   int64  \n",
      " 3   feature_frac   7776 non-null   float64\n",
      " 4   num_data       7776 non-null   int64  \n",
      " 5   fold           7776 non-null   int64  \n",
      " 6   ic             7776 non-null   float64\n",
      "dtypes: float64(3), int64(4)\n",
      "memory usage: 425.4 KB\n"
     ]
    }
   ],
   "source": [
    "results.info()"
   ]
  },
  {
   "cell_type": "code",
   "execution_count": 34,
   "metadata": {
    "ExecuteTime": {
     "end_time": "2020-07-15T02:29:56.148277Z",
     "start_time": "2020-07-15T02:29:56.129337Z"
    }
   },
   "outputs": [
    {
     "data": {
      "text/html": [
       "<div>\n",
       "<style scoped>\n",
       "    .dataframe tbody tr th:only-of-type {\n",
       "        vertical-align: middle;\n",
       "    }\n",
       "\n",
       "    .dataframe tbody tr th {\n",
       "        vertical-align: top;\n",
       "    }\n",
       "\n",
       "    .dataframe thead th {\n",
       "        text-align: right;\n",
       "    }\n",
       "</style>\n",
       "<table border=\"1\" class=\"dataframe\">\n",
       "  <thead>\n",
       "    <tr style=\"text-align: right;\">\n",
       "      <th></th>\n",
       "      <th>num_iteration</th>\n",
       "      <th>learning_rate</th>\n",
       "      <th>num_leaves</th>\n",
       "      <th>feature_frac</th>\n",
       "      <th>num_data</th>\n",
       "      <th>fold</th>\n",
       "      <th>ic</th>\n",
       "    </tr>\n",
       "  </thead>\n",
       "  <tbody>\n",
       "    <tr>\n",
       "      <th>0</th>\n",
       "      <td>10</td>\n",
       "      <td>0.01</td>\n",
       "      <td>64</td>\n",
       "      <td>0.95</td>\n",
       "      <td>1500</td>\n",
       "      <td>0</td>\n",
       "      <td>-0.010751</td>\n",
       "    </tr>\n",
       "    <tr>\n",
       "      <th>1</th>\n",
       "      <td>25</td>\n",
       "      <td>0.01</td>\n",
       "      <td>64</td>\n",
       "      <td>0.95</td>\n",
       "      <td>1500</td>\n",
       "      <td>0</td>\n",
       "      <td>-0.016401</td>\n",
       "    </tr>\n",
       "    <tr>\n",
       "      <th>2</th>\n",
       "      <td>50</td>\n",
       "      <td>0.01</td>\n",
       "      <td>64</td>\n",
       "      <td>0.95</td>\n",
       "      <td>1500</td>\n",
       "      <td>0</td>\n",
       "      <td>-0.016780</td>\n",
       "    </tr>\n",
       "    <tr>\n",
       "      <th>3</th>\n",
       "      <td>75</td>\n",
       "      <td>0.01</td>\n",
       "      <td>64</td>\n",
       "      <td>0.95</td>\n",
       "      <td>1500</td>\n",
       "      <td>0</td>\n",
       "      <td>-0.014140</td>\n",
       "    </tr>\n",
       "    <tr>\n",
       "      <th>4</th>\n",
       "      <td>100</td>\n",
       "      <td>0.01</td>\n",
       "      <td>64</td>\n",
       "      <td>0.95</td>\n",
       "      <td>1500</td>\n",
       "      <td>0</td>\n",
       "      <td>-0.007251</td>\n",
       "    </tr>\n",
       "  </tbody>\n",
       "</table>\n",
       "</div>"
      ],
      "text/plain": [
       "   num_iteration  learning_rate  num_leaves  feature_frac  num_data  fold  \\\n",
       "0             10           0.01          64          0.95      1500     0   \n",
       "1             25           0.01          64          0.95      1500     0   \n",
       "2             50           0.01          64          0.95      1500     0   \n",
       "3             75           0.01          64          0.95      1500     0   \n",
       "4            100           0.01          64          0.95      1500     0   \n",
       "\n",
       "         ic  \n",
       "0 -0.010751  \n",
       "1 -0.016401  \n",
       "2 -0.016780  \n",
       "3 -0.014140  \n",
       "4 -0.007251  "
      ]
     },
     "execution_count": 34,
     "metadata": {},
     "output_type": "execute_result"
    }
   ],
   "source": [
    "results.head()"
   ]
  },
  {
   "cell_type": "markdown",
   "metadata": {},
   "source": [
    "## Generate Predictions for best models"
   ]
  },
  {
   "cell_type": "markdown",
   "metadata": {},
   "source": [
    "Now we'll select the parameters that produced the 10 best daily IC values over four consecutive quarters and generate predictions for these configurations for the following quarter, using the already trained model."
   ]
  },
  {
   "cell_type": "code",
   "execution_count": 35,
   "metadata": {
    "ExecuteTime": {
     "end_time": "2020-07-15T02:29:59.002412Z",
     "start_time": "2020-07-15T02:29:58.999251Z"
    }
   },
   "outputs": [],
   "source": [
    "param_names = id_vars[1:]"
   ]
  },
  {
   "cell_type": "code",
   "execution_count": 36,
   "metadata": {
    "ExecuteTime": {
     "end_time": "2020-07-15T02:32:17.294655Z",
     "start_time": "2020-07-15T02:29:59.303966Z"
    }
   },
   "outputs": [
    {
     "name": "stdout",
     "output_type": "stream",
     "text": [
      "0 1 2 3 4 5 6 7 8 9 10 11 "
     ]
    }
   ],
   "source": [
    "predictions = []\n",
    "for fold, (train_idx, test_idx) in enumerate(cv.split(X=data)):\n",
    "    if fold >= 12:\n",
    "        break\n",
    "    print(fold, end=' ', flush=True)\n",
    "    \n",
    "    # get test features and outcomes\n",
    "    test_data = data.iloc[test_idx]\n",
    "    X_test = test_data.loc[:, features]\n",
    "    fold_predictions = test_data.loc[:, target].to_frame('y_true')\n",
    "\n",
    "    # select top 10 models based on prior 12 months performance\n",
    "    best_params = (results[results.fold.isin(list(range(fold + 1, fold + 4)))]\n",
    "                   .groupby(id_vars)\n",
    "                   .ic.mean()\n",
    "                   .nlargest(n=10).to_frame('ic'))\n",
    "    \n",
    "    # generate predictions for top 10 models\n",
    "    for pos, params in enumerate(best_params.reset_index().to_dict('records')):\n",
    "        num_iteration = params['num_iteration']\n",
    "        param_vals = [params[p] for p in param_names]\n",
    "        model_key = '_'.join([str(p) for p in param_vals])\n",
    "        params = dict(zip(param_names, param_vals))\n",
    "        params.update(base_params)\n",
    "\n",
    "        # select matching model for current quarter\n",
    "        model_path = Path('models/' + model_key + f'_{fold}.txt')\n",
    "        model = lgb.Booster(model_file=model_path.as_posix())\n",
    "        \n",
    "        # predict returns based on current quarter features\n",
    "        fold_predictions[pos] = model.predict(X_test.loc[:, model.feature_name()], \n",
    "                                              num_iteration=num_iteration)\n",
    "    predictions.append(fold_predictions)\n",
    "predictions = pd.concat(predictions)    "
   ]
  },
  {
   "cell_type": "code",
   "execution_count": 37,
   "metadata": {
    "ExecuteTime": {
     "end_time": "2020-07-15T02:32:17.356236Z",
     "start_time": "2020-07-15T02:32:17.296031Z"
    }
   },
   "outputs": [
    {
     "name": "stdout",
     "output_type": "stream",
     "text": [
      "<class 'pandas.core.frame.DataFrame'>\n",
      "MultiIndex: 366259 entries, ('A', Timestamp('2014-01-09 00:00:00')) to ('ZMH', Timestamp('2015-07-02 00:00:00'))\n",
      "Data columns (total 11 columns):\n",
      " #   Column  Non-Null Count   Dtype  \n",
      "---  ------  --------------   -----  \n",
      " 0   y_true  366259 non-null  float64\n",
      " 1   0       366259 non-null  float64\n",
      " 2   1       366259 non-null  float64\n",
      " 3   2       366259 non-null  float64\n",
      " 4   3       366259 non-null  float64\n",
      " 5   4       366259 non-null  float64\n",
      " 6   5       366259 non-null  float64\n",
      " 7   6       366259 non-null  float64\n",
      " 8   7       366259 non-null  float64\n",
      " 9   8       366259 non-null  float64\n",
      " 10  9       366259 non-null  float64\n",
      "dtypes: float64(11)\n",
      "memory usage: 32.2+ MB\n"
     ]
    }
   ],
   "source": [
    "predictions.sort_index().info()"
   ]
  },
  {
   "cell_type": "code",
   "execution_count": 38,
   "metadata": {
    "ExecuteTime": {
     "end_time": "2020-07-15T02:32:18.112387Z",
     "start_time": "2020-07-15T02:32:17.369697Z"
    }
   },
   "outputs": [
    {
     "name": "stdout",
     "output_type": "stream",
     "text": [
      "Top 0: 3.00 (0.00%)\n",
      "Top 1: 2.79 (0.00%)\n",
      "Top 2: 3.07 (0.00%)\n",
      "Top 3: 3.00 (0.00%)\n",
      "Top 4: 2.98 (0.00%)\n",
      "Top 5: 3.03 (0.00%)\n",
      "Top 6: 3.04 (0.00%)\n",
      "Top 7: 2.55 (0.00%)\n",
      "Top 8: 2.95 (0.00%)\n",
      "Top 9: 2.96 (0.00%)\n"
     ]
    }
   ],
   "source": [
    "pred_cols = predictions.columns.drop('y_true')\n",
    "for col in pred_cols:\n",
    "    rho, p = spearmanr(predictions.y_true, predictions[col])\n",
    "    print(f'Top {col}: {rho * 100:.2f} ({p:.2%})')"
   ]
  },
  {
   "cell_type": "markdown",
   "metadata": {},
   "source": [
    "Let's compare the performance of individual models to that of an averaged ensemble:"
   ]
  },
  {
   "cell_type": "code",
   "execution_count": 39,
   "metadata": {
    "ExecuteTime": {
     "end_time": "2020-07-15T02:32:18.213347Z",
     "start_time": "2020-07-15T02:32:18.113622Z"
    }
   },
   "outputs": [
    {
     "name": "stdout",
     "output_type": "stream",
     "text": [
      "\n",
      "Avg: 3.07 (0.00%)\n"
     ]
    }
   ],
   "source": [
    "rho, p = spearmanr(predictions.y_true, predictions.loc[:, pred_cols].mean(1))\n",
    "print(f'\\nAvg: {rho * 100:.2f} ({p:.2%})')"
   ]
  },
  {
   "cell_type": "markdown",
   "metadata": {},
   "source": [
    "We obtain an average IC of 3.01%."
   ]
  },
  {
   "cell_type": "code",
   "execution_count": 40,
   "metadata": {
    "ExecuteTime": {
     "end_time": "2020-07-15T02:32:18.247693Z",
     "start_time": "2020-07-15T02:32:18.214515Z"
    }
   },
   "outputs": [],
   "source": [
    "with pd.HDFStore(DATA_PATH / 'predictions.h5') as store:\n",
    "    store.put(f'gradient_boosting', predictions.loc[:, pred_cols].mean(1))"
   ]
  },
  {
   "cell_type": "markdown",
   "metadata": {},
   "source": [
    "## AlphaLens Analysis"
   ]
  },
  {
   "cell_type": "markdown",
   "metadata": {},
   "source": [
    "Let's take a look how the model predictions perform from an alpha factor perspective."
   ]
  },
  {
   "cell_type": "markdown",
   "metadata": {},
   "source": [
    "### Prepare Factor Data"
   ]
  },
  {
   "cell_type": "code",
   "execution_count": 41,
   "metadata": {
    "ExecuteTime": {
     "end_time": "2020-07-15T02:32:18.324794Z",
     "start_time": "2020-07-15T02:32:18.248986Z"
    }
   },
   "outputs": [],
   "source": [
    "t = 1\n",
    "idx = pd.IndexSlice\n",
    "factor = (predictions.loc[:, pred_cols].mean(1)\n",
    "          .sort_index()\n",
    "          .dropna()\n",
    "          .tz_localize('UTC', level='date')\n",
    "          .swaplevel())"
   ]
  },
  {
   "cell_type": "code",
   "execution_count": 42,
   "metadata": {
    "ExecuteTime": {
     "end_time": "2020-07-15T02:32:18.337478Z",
     "start_time": "2020-07-15T02:32:18.326100Z"
    }
   },
   "outputs": [
    {
     "data": {
      "text/plain": [
       "date                       ticker\n",
       "2014-01-09 00:00:00+00:00  A         0.001202\n",
       "2014-01-10 00:00:00+00:00  A         0.001139\n",
       "2014-01-13 00:00:00+00:00  A         0.001154\n",
       "2014-01-14 00:00:00+00:00  A         0.001110\n",
       "2014-01-15 00:00:00+00:00  A         0.001110\n",
       "dtype: float64"
      ]
     },
     "execution_count": 42,
     "metadata": {},
     "output_type": "execute_result"
    }
   ],
   "source": [
    "factor.head()"
   ]
  },
  {
   "cell_type": "code",
   "execution_count": 43,
   "metadata": {
    "ExecuteTime": {
     "end_time": "2020-07-15T02:32:18.344343Z",
     "start_time": "2020-07-15T02:32:18.339647Z"
    }
   },
   "outputs": [
    {
     "data": {
      "text/plain": [
       "(Timestamp('2014-01-09 00:00:00+0000', tz='UTC'),\n",
       " Timestamp('2016-12-29 00:00:00+0000', tz='UTC'))"
      ]
     },
     "execution_count": 43,
     "metadata": {},
     "output_type": "execute_result"
    }
   ],
   "source": [
    "dates = factor.index.unique('date')\n",
    "dates.min(), dates.max()"
   ]
  },
  {
   "cell_type": "code",
   "execution_count": 44,
   "metadata": {
    "ExecuteTime": {
     "end_time": "2020-07-15T02:32:18.352006Z",
     "start_time": "2020-07-15T02:32:18.345234Z"
    }
   },
   "outputs": [],
   "source": [
    "tickers = factor.index.unique('ticker')"
   ]
  },
  {
   "cell_type": "markdown",
   "metadata": {},
   "source": [
    "### Select next available trade prices"
   ]
  },
  {
   "cell_type": "markdown",
   "metadata": {},
   "source": [
    "Using next available prices."
   ]
  },
  {
   "cell_type": "code",
   "execution_count": 45,
   "metadata": {
    "ExecuteTime": {
     "end_time": "2020-07-15T02:32:18.357603Z",
     "start_time": "2020-07-15T02:32:18.352874Z"
    }
   },
   "outputs": [],
   "source": [
    "def get_trade_prices(tickers):\n",
    "    return (pd.read_hdf(DATA_PATH / 'stock_prices.h5', 'us_stocks')\n",
    "              .loc[idx[tickers, '2006':'2017'], 'open']\n",
    "              .unstack('ticker')\n",
    "              .sort_index()\n",
    "            .shift(-1)\n",
    "            .tz_localize('UTC'))"
   ]
  },
  {
   "cell_type": "code",
   "execution_count": 46,
   "metadata": {
    "ExecuteTime": {
     "end_time": "2020-07-15T02:32:32.662608Z",
     "start_time": "2020-07-15T02:32:18.358435Z"
    },
    "scrolled": true
   },
   "outputs": [
    {
     "name": "stdout",
     "output_type": "stream",
     "text": [
      "<class 'pandas.core.frame.DataFrame'>\n",
      "DatetimeIndex: 3020 entries, 2006-01-03 00:00:00+00:00 to 2017-12-29 00:00:00+00:00\n",
      "Columns: 500 entries, A to ZMH\n",
      "dtypes: float64(500)\n",
      "memory usage: 11.5 MB\n"
     ]
    }
   ],
   "source": [
    "trade_prices = get_trade_prices(tickers)\n",
    "trade_prices.info()"
   ]
  },
  {
   "cell_type": "markdown",
   "metadata": {},
   "source": [
    "### Get AlphaLens Inputs"
   ]
  },
  {
   "cell_type": "code",
   "execution_count": 47,
   "metadata": {
    "ExecuteTime": {
     "end_time": "2020-07-15T02:32:37.016950Z",
     "start_time": "2020-07-15T02:32:32.663767Z"
    }
   },
   "outputs": [
    {
     "name": "stdout",
     "output_type": "stream",
     "text": [
      "Dropped 0.8% entries from factor data: 0.8% in forward returns computation and 0.0% in binning phase (set max_loss=0 to see potentially suppressed Exceptions).\n",
      "max_loss is 35.0%, not exceeded: OK!\n",
      "<class 'pandas.core.frame.DataFrame'>\n",
      "MultiIndex: 363260 entries, (Timestamp('2014-01-09 00:00:00+0000', tz='UTC', freq='C'), 'A') to (Timestamp('2016-12-29 00:00:00+0000', tz='UTC', freq='C'), 'ZION')\n",
      "Data columns (total 6 columns):\n",
      " #   Column           Non-Null Count   Dtype  \n",
      "---  ------           --------------   -----  \n",
      " 0   1D               363260 non-null  float64\n",
      " 1   2D               363260 non-null  float64\n",
      " 2   3D               363260 non-null  float64\n",
      " 3   5D               363260 non-null  float64\n",
      " 4   factor           363260 non-null  float64\n",
      " 5   factor_quantile  363260 non-null  int64  \n",
      "dtypes: float64(5), int64(1)\n",
      "memory usage: 18.1+ MB\n"
     ]
    }
   ],
   "source": [
    "factor_data = get_clean_factor_and_forward_returns(factor=factor,\n",
    "                                                   prices=trade_prices,\n",
    "                                                   quantiles=10,\n",
    "                                                   periods=(1, 2, 3, 5))\n",
    "factor_data.sort_index().info()"
   ]
  },
  {
   "cell_type": "markdown",
   "metadata": {},
   "source": [
    "### Summary Tearsheet"
   ]
  },
  {
   "cell_type": "markdown",
   "metadata": {},
   "source": [
    "For a 1-day holding period, we find a meaningful (but asymmetric) spread between the top and bottom deciles; the results suggest that our model does best at identifying poor near-term performance:"
   ]
  },
  {
   "cell_type": "code",
   "execution_count": 48,
   "metadata": {
    "ExecuteTime": {
     "end_time": "2020-07-15T02:32:50.635196Z",
     "start_time": "2020-07-15T02:32:37.017884Z"
    }
   },
   "outputs": [
    {
     "name": "stdout",
     "output_type": "stream",
     "text": [
      "Quantiles Statistics\n"
     ]
    },
    {
     "data": {
      "text/html": [
       "<div>\n",
       "<style scoped>\n",
       "    .dataframe tbody tr th:only-of-type {\n",
       "        vertical-align: middle;\n",
       "    }\n",
       "\n",
       "    .dataframe tbody tr th {\n",
       "        vertical-align: top;\n",
       "    }\n",
       "\n",
       "    .dataframe thead th {\n",
       "        text-align: right;\n",
       "    }\n",
       "</style>\n",
       "<table border=\"1\" class=\"dataframe\">\n",
       "  <thead>\n",
       "    <tr style=\"text-align: right;\">\n",
       "      <th></th>\n",
       "      <th>min</th>\n",
       "      <th>max</th>\n",
       "      <th>mean</th>\n",
       "      <th>std</th>\n",
       "      <th>count</th>\n",
       "      <th>count %</th>\n",
       "    </tr>\n",
       "    <tr>\n",
       "      <th>factor_quantile</th>\n",
       "      <th></th>\n",
       "      <th></th>\n",
       "      <th></th>\n",
       "      <th></th>\n",
       "      <th></th>\n",
       "      <th></th>\n",
       "    </tr>\n",
       "  </thead>\n",
       "  <tbody>\n",
       "    <tr>\n",
       "      <th>1</th>\n",
       "      <td>-0.045406</td>\n",
       "      <td>0.004070</td>\n",
       "      <td>-0.002648</td>\n",
       "      <td>0.004112</td>\n",
       "      <td>36659</td>\n",
       "      <td>10.091670</td>\n",
       "    </tr>\n",
       "    <tr>\n",
       "      <th>2</th>\n",
       "      <td>-0.015331</td>\n",
       "      <td>0.005429</td>\n",
       "      <td>-0.000809</td>\n",
       "      <td>0.002346</td>\n",
       "      <td>36325</td>\n",
       "      <td>9.999725</td>\n",
       "    </tr>\n",
       "    <tr>\n",
       "      <th>3</th>\n",
       "      <td>-0.012902</td>\n",
       "      <td>0.006234</td>\n",
       "      <td>-0.000235</td>\n",
       "      <td>0.001960</td>\n",
       "      <td>36148</td>\n",
       "      <td>9.950999</td>\n",
       "    </tr>\n",
       "    <tr>\n",
       "      <th>4</th>\n",
       "      <td>-0.011604</td>\n",
       "      <td>0.007115</td>\n",
       "      <td>0.000149</td>\n",
       "      <td>0.001782</td>\n",
       "      <td>36393</td>\n",
       "      <td>10.018444</td>\n",
       "    </tr>\n",
       "    <tr>\n",
       "      <th>5</th>\n",
       "      <td>-0.010784</td>\n",
       "      <td>0.008037</td>\n",
       "      <td>0.000466</td>\n",
       "      <td>0.001707</td>\n",
       "      <td>36262</td>\n",
       "      <td>9.982382</td>\n",
       "    </tr>\n",
       "    <tr>\n",
       "      <th>6</th>\n",
       "      <td>-0.009673</td>\n",
       "      <td>0.009476</td>\n",
       "      <td>0.000771</td>\n",
       "      <td>0.001710</td>\n",
       "      <td>36152</td>\n",
       "      <td>9.952100</td>\n",
       "    </tr>\n",
       "    <tr>\n",
       "      <th>7</th>\n",
       "      <td>-0.008283</td>\n",
       "      <td>0.010901</td>\n",
       "      <td>0.001099</td>\n",
       "      <td>0.001798</td>\n",
       "      <td>36243</td>\n",
       "      <td>9.977151</td>\n",
       "    </tr>\n",
       "    <tr>\n",
       "      <th>8</th>\n",
       "      <td>-0.006792</td>\n",
       "      <td>0.013820</td>\n",
       "      <td>0.001506</td>\n",
       "      <td>0.001991</td>\n",
       "      <td>36301</td>\n",
       "      <td>9.993118</td>\n",
       "    </tr>\n",
       "    <tr>\n",
       "      <th>9</th>\n",
       "      <td>-0.005547</td>\n",
       "      <td>0.020940</td>\n",
       "      <td>0.002137</td>\n",
       "      <td>0.002409</td>\n",
       "      <td>36167</td>\n",
       "      <td>9.956230</td>\n",
       "    </tr>\n",
       "    <tr>\n",
       "      <th>10</th>\n",
       "      <td>-0.002562</td>\n",
       "      <td>0.054534</td>\n",
       "      <td>0.004242</td>\n",
       "      <td>0.004323</td>\n",
       "      <td>36610</td>\n",
       "      <td>10.078181</td>\n",
       "    </tr>\n",
       "  </tbody>\n",
       "</table>\n",
       "</div>"
      ],
      "text/plain": [
       "                      min       max      mean       std  count    count %\n",
       "factor_quantile                                                          \n",
       "1               -0.045406  0.004070 -0.002648  0.004112  36659  10.091670\n",
       "2               -0.015331  0.005429 -0.000809  0.002346  36325   9.999725\n",
       "3               -0.012902  0.006234 -0.000235  0.001960  36148   9.950999\n",
       "4               -0.011604  0.007115  0.000149  0.001782  36393  10.018444\n",
       "5               -0.010784  0.008037  0.000466  0.001707  36262   9.982382\n",
       "6               -0.009673  0.009476  0.000771  0.001710  36152   9.952100\n",
       "7               -0.008283  0.010901  0.001099  0.001798  36243   9.977151\n",
       "8               -0.006792  0.013820  0.001506  0.001991  36301   9.993118\n",
       "9               -0.005547  0.020940  0.002137  0.002409  36167   9.956230\n",
       "10              -0.002562  0.054534  0.004242  0.004323  36610  10.078181"
      ]
     },
     "metadata": {},
     "output_type": "display_data"
    },
    {
     "name": "stdout",
     "output_type": "stream",
     "text": [
      "Returns Analysis\n"
     ]
    },
    {
     "data": {
      "text/html": [
       "<div>\n",
       "<style scoped>\n",
       "    .dataframe tbody tr th:only-of-type {\n",
       "        vertical-align: middle;\n",
       "    }\n",
       "\n",
       "    .dataframe tbody tr th {\n",
       "        vertical-align: top;\n",
       "    }\n",
       "\n",
       "    .dataframe thead th {\n",
       "        text-align: right;\n",
       "    }\n",
       "</style>\n",
       "<table border=\"1\" class=\"dataframe\">\n",
       "  <thead>\n",
       "    <tr style=\"text-align: right;\">\n",
       "      <th></th>\n",
       "      <th>1D</th>\n",
       "      <th>2D</th>\n",
       "      <th>3D</th>\n",
       "      <th>5D</th>\n",
       "    </tr>\n",
       "  </thead>\n",
       "  <tbody>\n",
       "    <tr>\n",
       "      <th>Ann. alpha</th>\n",
       "      <td>0.079</td>\n",
       "      <td>0.023</td>\n",
       "      <td>-0.030</td>\n",
       "      <td>-0.025</td>\n",
       "    </tr>\n",
       "    <tr>\n",
       "      <th>beta</th>\n",
       "      <td>0.044</td>\n",
       "      <td>0.091</td>\n",
       "      <td>0.097</td>\n",
       "      <td>0.109</td>\n",
       "    </tr>\n",
       "    <tr>\n",
       "      <th>Mean Period Wise Return Top Quantile (bps)</th>\n",
       "      <td>2.530</td>\n",
       "      <td>-0.287</td>\n",
       "      <td>-2.166</td>\n",
       "      <td>-2.535</td>\n",
       "    </tr>\n",
       "    <tr>\n",
       "      <th>Mean Period Wise Return Bottom Quantile (bps)</th>\n",
       "      <td>-6.832</td>\n",
       "      <td>-4.066</td>\n",
       "      <td>-2.000</td>\n",
       "      <td>-2.632</td>\n",
       "    </tr>\n",
       "    <tr>\n",
       "      <th>Mean Period Wise Spread (bps)</th>\n",
       "      <td>9.362</td>\n",
       "      <td>3.767</td>\n",
       "      <td>-0.187</td>\n",
       "      <td>0.037</td>\n",
       "    </tr>\n",
       "  </tbody>\n",
       "</table>\n",
       "</div>"
      ],
      "text/plain": [
       "                                                  1D     2D     3D     5D\n",
       "Ann. alpha                                     0.079  0.023 -0.030 -0.025\n",
       "beta                                           0.044  0.091  0.097  0.109\n",
       "Mean Period Wise Return Top Quantile (bps)     2.530 -0.287 -2.166 -2.535\n",
       "Mean Period Wise Return Bottom Quantile (bps) -6.832 -4.066 -2.000 -2.632\n",
       "Mean Period Wise Spread (bps)                  9.362  3.767 -0.187  0.037"
      ]
     },
     "metadata": {},
     "output_type": "display_data"
    },
    {
     "name": "stdout",
     "output_type": "stream",
     "text": [
      "Information Analysis\n"
     ]
    },
    {
     "data": {
      "text/html": [
       "<div>\n",
       "<style scoped>\n",
       "    .dataframe tbody tr th:only-of-type {\n",
       "        vertical-align: middle;\n",
       "    }\n",
       "\n",
       "    .dataframe tbody tr th {\n",
       "        vertical-align: top;\n",
       "    }\n",
       "\n",
       "    .dataframe thead th {\n",
       "        text-align: right;\n",
       "    }\n",
       "</style>\n",
       "<table border=\"1\" class=\"dataframe\">\n",
       "  <thead>\n",
       "    <tr style=\"text-align: right;\">\n",
       "      <th></th>\n",
       "      <th>1D</th>\n",
       "      <th>2D</th>\n",
       "      <th>3D</th>\n",
       "      <th>5D</th>\n",
       "    </tr>\n",
       "  </thead>\n",
       "  <tbody>\n",
       "    <tr>\n",
       "      <th>IC Mean</th>\n",
       "      <td>0.010</td>\n",
       "      <td>0.006</td>\n",
       "      <td>0.000</td>\n",
       "      <td>0.001</td>\n",
       "    </tr>\n",
       "    <tr>\n",
       "      <th>IC Std.</th>\n",
       "      <td>0.153</td>\n",
       "      <td>0.153</td>\n",
       "      <td>0.158</td>\n",
       "      <td>0.159</td>\n",
       "    </tr>\n",
       "    <tr>\n",
       "      <th>Risk-Adjusted IC</th>\n",
       "      <td>0.067</td>\n",
       "      <td>0.039</td>\n",
       "      <td>0.002</td>\n",
       "      <td>0.005</td>\n",
       "    </tr>\n",
       "    <tr>\n",
       "      <th>t-stat(IC)</th>\n",
       "      <td>NaN</td>\n",
       "      <td>NaN</td>\n",
       "      <td>NaN</td>\n",
       "      <td>NaN</td>\n",
       "    </tr>\n",
       "    <tr>\n",
       "      <th>p-value(IC)</th>\n",
       "      <td>NaN</td>\n",
       "      <td>NaN</td>\n",
       "      <td>NaN</td>\n",
       "      <td>NaN</td>\n",
       "    </tr>\n",
       "    <tr>\n",
       "      <th>IC Skew</th>\n",
       "      <td>NaN</td>\n",
       "      <td>NaN</td>\n",
       "      <td>NaN</td>\n",
       "      <td>NaN</td>\n",
       "    </tr>\n",
       "    <tr>\n",
       "      <th>IC Kurtosis</th>\n",
       "      <td>NaN</td>\n",
       "      <td>NaN</td>\n",
       "      <td>NaN</td>\n",
       "      <td>NaN</td>\n",
       "    </tr>\n",
       "  </tbody>\n",
       "</table>\n",
       "</div>"
      ],
      "text/plain": [
       "                     1D     2D     3D     5D\n",
       "IC Mean           0.010  0.006  0.000  0.001\n",
       "IC Std.           0.153  0.153  0.158  0.159\n",
       "Risk-Adjusted IC  0.067  0.039  0.002  0.005\n",
       "t-stat(IC)          NaN    NaN    NaN    NaN\n",
       "p-value(IC)         NaN    NaN    NaN    NaN\n",
       "IC Skew             NaN    NaN    NaN    NaN\n",
       "IC Kurtosis         NaN    NaN    NaN    NaN"
      ]
     },
     "metadata": {},
     "output_type": "display_data"
    },
    {
     "name": "stdout",
     "output_type": "stream",
     "text": [
      "Turnover Analysis\n"
     ]
    },
    {
     "data": {
      "text/html": [
       "<div>\n",
       "<style scoped>\n",
       "    .dataframe tbody tr th:only-of-type {\n",
       "        vertical-align: middle;\n",
       "    }\n",
       "\n",
       "    .dataframe tbody tr th {\n",
       "        vertical-align: top;\n",
       "    }\n",
       "\n",
       "    .dataframe thead th {\n",
       "        text-align: right;\n",
       "    }\n",
       "</style>\n",
       "<table border=\"1\" class=\"dataframe\">\n",
       "  <thead>\n",
       "    <tr style=\"text-align: right;\">\n",
       "      <th></th>\n",
       "      <th>1D</th>\n",
       "      <th>2D</th>\n",
       "      <th>3D</th>\n",
       "      <th>5D</th>\n",
       "    </tr>\n",
       "  </thead>\n",
       "  <tbody>\n",
       "    <tr>\n",
       "      <th>Quantile 1 Mean Turnover</th>\n",
       "      <td>0.659</td>\n",
       "      <td>0.708</td>\n",
       "      <td>0.738</td>\n",
       "      <td>0.702</td>\n",
       "    </tr>\n",
       "    <tr>\n",
       "      <th>Quantile 2 Mean Turnover</th>\n",
       "      <td>0.816</td>\n",
       "      <td>0.834</td>\n",
       "      <td>0.841</td>\n",
       "      <td>0.829</td>\n",
       "    </tr>\n",
       "    <tr>\n",
       "      <th>Quantile 3 Mean Turnover</th>\n",
       "      <td>0.846</td>\n",
       "      <td>0.858</td>\n",
       "      <td>0.862</td>\n",
       "      <td>0.853</td>\n",
       "    </tr>\n",
       "    <tr>\n",
       "      <th>Quantile 4 Mean Turnover</th>\n",
       "      <td>0.856</td>\n",
       "      <td>0.864</td>\n",
       "      <td>0.869</td>\n",
       "      <td>0.864</td>\n",
       "    </tr>\n",
       "    <tr>\n",
       "      <th>Quantile 5 Mean Turnover</th>\n",
       "      <td>0.861</td>\n",
       "      <td>0.863</td>\n",
       "      <td>0.867</td>\n",
       "      <td>0.866</td>\n",
       "    </tr>\n",
       "    <tr>\n",
       "      <th>Quantile 6 Mean Turnover</th>\n",
       "      <td>0.859</td>\n",
       "      <td>0.865</td>\n",
       "      <td>0.872</td>\n",
       "      <td>0.869</td>\n",
       "    </tr>\n",
       "    <tr>\n",
       "      <th>Quantile 7 Mean Turnover</th>\n",
       "      <td>0.851</td>\n",
       "      <td>0.863</td>\n",
       "      <td>0.869</td>\n",
       "      <td>0.863</td>\n",
       "    </tr>\n",
       "    <tr>\n",
       "      <th>Quantile 8 Mean Turnover</th>\n",
       "      <td>0.840</td>\n",
       "      <td>0.854</td>\n",
       "      <td>0.864</td>\n",
       "      <td>0.855</td>\n",
       "    </tr>\n",
       "    <tr>\n",
       "      <th>Quantile 9 Mean Turnover</th>\n",
       "      <td>0.804</td>\n",
       "      <td>0.824</td>\n",
       "      <td>0.833</td>\n",
       "      <td>0.825</td>\n",
       "    </tr>\n",
       "    <tr>\n",
       "      <th>Quantile 10 Mean Turnover</th>\n",
       "      <td>0.611</td>\n",
       "      <td>0.649</td>\n",
       "      <td>0.679</td>\n",
       "      <td>0.663</td>\n",
       "    </tr>\n",
       "  </tbody>\n",
       "</table>\n",
       "</div>"
      ],
      "text/plain": [
       "                               1D     2D     3D     5D\n",
       "Quantile 1 Mean Turnover    0.659  0.708  0.738  0.702\n",
       "Quantile 2 Mean Turnover    0.816  0.834  0.841  0.829\n",
       "Quantile 3 Mean Turnover    0.846  0.858  0.862  0.853\n",
       "Quantile 4 Mean Turnover    0.856  0.864  0.869  0.864\n",
       "Quantile 5 Mean Turnover    0.861  0.863  0.867  0.866\n",
       "Quantile 6 Mean Turnover    0.859  0.865  0.872  0.869\n",
       "Quantile 7 Mean Turnover    0.851  0.863  0.869  0.863\n",
       "Quantile 8 Mean Turnover    0.840  0.854  0.864  0.855\n",
       "Quantile 9 Mean Turnover    0.804  0.824  0.833  0.825\n",
       "Quantile 10 Mean Turnover   0.611  0.649  0.679  0.663"
      ]
     },
     "metadata": {},
     "output_type": "display_data"
    },
    {
     "data": {
      "text/html": [
       "<div>\n",
       "<style scoped>\n",
       "    .dataframe tbody tr th:only-of-type {\n",
       "        vertical-align: middle;\n",
       "    }\n",
       "\n",
       "    .dataframe tbody tr th {\n",
       "        vertical-align: top;\n",
       "    }\n",
       "\n",
       "    .dataframe thead th {\n",
       "        text-align: right;\n",
       "    }\n",
       "</style>\n",
       "<table border=\"1\" class=\"dataframe\">\n",
       "  <thead>\n",
       "    <tr style=\"text-align: right;\">\n",
       "      <th></th>\n",
       "      <th>1D</th>\n",
       "      <th>2D</th>\n",
       "      <th>3D</th>\n",
       "      <th>5D</th>\n",
       "    </tr>\n",
       "  </thead>\n",
       "  <tbody>\n",
       "    <tr>\n",
       "      <th>Mean Factor Rank Autocorrelation</th>\n",
       "      <td>0.38</td>\n",
       "      <td>0.315</td>\n",
       "      <td>0.268</td>\n",
       "      <td>0.322</td>\n",
       "    </tr>\n",
       "  </tbody>\n",
       "</table>\n",
       "</div>"
      ],
      "text/plain": [
       "                                    1D     2D     3D     5D\n",
       "Mean Factor Rank Autocorrelation  0.38  0.315  0.268  0.322"
      ]
     },
     "metadata": {},
     "output_type": "display_data"
    },
    {
     "data": {
      "text/plain": [
       "<Figure size 432x288 with 0 Axes>"
      ]
     },
     "metadata": {},
     "output_type": "display_data"
    },
    {
     "data": {
      "image/png": "[encoded data removed]",
      "text/plain": [
       "<Figure size 1008x7056 with 1 Axes>"
      ]
     },
     "metadata": {},
     "output_type": "display_data"
    }
   ],
   "source": [
    "create_summary_tear_sheet(factor_data)"
   ]
  }
 ],
 "metadata": {
  "kernelspec": {
   "display_name": "Python 3.8.13 ('zip38')",
   "language": "python",
   "name": "python3"
  },
  "language_info": {
   "codemirror_mode": {
    "name": "ipython",
    "version": 3
   },
   "file_extension": ".py",
   "mimetype": "text/x-python",
   "name": "python",
   "nbconvert_exporter": "python",
   "pygments_lexer": "ipython3",
   "version": "3.8.13"
  },
  "toc": {
   "base_numbering": 1,
   "nav_menu": {},
   "number_sections": true,
   "sideBar": true,
   "skip_h1_title": true,
   "title_cell": "Table of Contents",
   "title_sidebar": "Contents",
   "toc_cell": false,
   "toc_position": {
    "height": "calc(100% - 180px)",
    "left": "10px",
    "top": "150px",
    "width": "292.016px"
   },
   "toc_section_display": true,
   "toc_window_display": true
  },
  "vscode": {
   "interpreter": {
    "hash": "e30b16ef4f340535a66b61b25fd90838b34ec8fd9d459764553424a1f5105cf4"
   }
  }
 },
 "nbformat": 4,
 "nbformat_minor": 4
}
